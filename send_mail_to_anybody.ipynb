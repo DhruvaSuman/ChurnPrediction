{
 "cells": [
  {
   "cell_type": "code",
   "execution_count": 1,
   "metadata": {},
   "outputs": [],
   "source": [
    "import smtplib\n",
    "from getpass import getpass"
   ]
  },
  {
   "cell_type": "code",
   "execution_count": 2,
   "metadata": {},
   "outputs": [
    {
     "name": "stdout",
     "output_type": "stream",
     "text": [
      "Enter username: kumarsuman99340@gmail.com\n",
      "Enter password: ········\n",
      "Enter message: its me i am dhruva_suman \n",
      "Sent Successfully\n"
     ]
    }
   ],
   "source": [
    "username=input(\"Enter username: \")\n",
    "password=getpass(\"Enter password: \")\n",
    "message=input(\"Enter message: \")\n",
    "message=\"from Dhruva_Suman\\n\"+message\n",
    "li=['irctc3131@gmail.com',\"msantosh278@gmail.com\",\"sagarraj9661974268@gmail.com\"]\n",
    "for dest in li:\n",
    "    s=smtplib.SMTP('smtp.gmail.com',587)\n",
    "    s.starttls()\n",
    "    s.login(username,password)\n",
    "    s.sendmail(username,dest,message)\n",
    "    s.quit()\n",
    "print(\"Sent Successfully\")"
   ]
  },
  {
   "cell_type": "code",
   "execution_count": null,
   "metadata": {},
   "outputs": [],
   "source": []
  }
 ],
 "metadata": {
  "kernelspec": {
   "display_name": "Python 3",
   "language": "python",
   "name": "python3"
  },
  "language_info": {
   "codemirror_mode": {
    "name": "ipython",
    "version": 3
   },
   "file_extension": ".py",
   "mimetype": "text/x-python",
   "name": "python",
   "nbconvert_exporter": "python",
   "pygments_lexer": "ipython3",
   "version": "3.7.4"
  }
 },
 "nbformat": 4,
 "nbformat_minor": 2
}
